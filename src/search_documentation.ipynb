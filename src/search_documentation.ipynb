{
 "cells": [
  {
   "cell_type": "code",
   "execution_count": null,
   "metadata": {},
   "outputs": [],
   "source": [
    "import heapq\n",
    "import pickle\n",
    "\n",
    "from pyrosm import get_data, OSM\n",
    "from haversine import haversine"
   ]
  },
  {
   "cell_type": "markdown",
   "metadata": {},
   "source": [
    "Here we import the necessary libraries. Heapq is for the a* search algorithm, pickle allows us to serialize the graph data, pyrosm parses open street map data, and haversine calculates the distance between two coordinates."
   ]
  },
  {
   "cell_type": "code",
   "execution_count": null,
   "metadata": {},
   "outputs": [],
   "source": [
    "def a_star_search(seattle_graph, start, end):\n",
    "    \"\"\"\n",
    "    parameters\n",
    "    seattle_graph: graph data for Seattle\n",
    "    start: starting vertex in the graph\n",
    "    end: ending/target vertex in the graph\n",
    "    return: path through the graph\n",
    "    \"\"\"\n",
    "    entry = 1\n",
    "    minheap = [(0, 0, start, 0)] # add first item\n",
    "    distances = {start: (0, None)} # also the visited set\n",
    "    end_lat, end_lon = end['lat'], end['lon']\n",
    "\n",
    "    # need to create node object with parents to find path\n",
    "    while minheap:\n",
    "        _, _, curr_node, curr_dist = heapq.heappop(minheap)\n",
    "\n",
    "        if curr_node == end:\n",
    "            break\n",
    "\n",
    "        for out_edge_idx in seattle_graph.incident(curr_node, mode=\"out\"):\n",
    "            out_edge = seattle_graph.es[out_edge_idx]\n",
    "            new_dist = curr_dist + out_edge[\"length\"]\n",
    "            neighbor = seattle_graph.vs.find(id=out_edge[\"v\"])\n",
    "            dist_to_end = haversine((neighbor['lat'], neighbor['lon']), (end_lat, end_lon)) * 1000 # kilometers to meters\n",
    "\n",
    "            if neighbor not in distances or new_dist < distances[neighbor][0]:\n",
    "                distances[neighbor] = (new_dist, curr_node)\n",
    "            else: # visited\n",
    "                continue\n",
    "            \n",
    "            weight = 2 * (new_dist + dist_to_end)\n",
    "            heapq.heappush(minheap, (weight, entry, neighbor, new_dist))\n",
    "            entry += 1\n",
    "\n",
    "\n",
    "    path = []\n",
    "    curr = distances[end][1]\n",
    "    while curr is not None:\n",
    "        path.append(curr)\n",
    "        curr = distances[curr][1]\n",
    "\n",
    "    return path[::-1]\n"
   ]
  },
  {
   "cell_type": "markdown",
   "metadata": {},
   "source": [
    "Here is my implementation of the a* search algorithm to find the shortest path between two points in the city of Seattle. Unfortunately my implementation is too slow to be useful in the web application due to the high level nature of python. Because of this I will use an external library (OSMnx) that has a shortest path function."
   ]
  }
 ],
 "metadata": {
  "kernelspec": {
   "display_name": ".venv",
   "language": "python",
   "name": "python3"
  },
  "language_info": {
   "name": "python",
   "version": "3.10.12"
  }
 },
 "nbformat": 4,
 "nbformat_minor": 2
}
