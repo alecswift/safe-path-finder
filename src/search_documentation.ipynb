{
 "cells": [
  {
   "cell_type": "code",
   "execution_count": null,
   "metadata": {},
   "outputs": [],
   "source": [
    "import heapq\n",
    "import pickle\n",
    "\n",
    "import networkx\n",
    "import osmnx\n",
    "from pyrosm import get_data, OSM\n",
    "from haversine import haversine"
   ]
  },
  {
   "cell_type": "markdown",
   "metadata": {},
   "source": [
    "Here we import the necessary libraries. Heapq is for the a* search algorithm, pickle allows us to serialize the graph data, pyrosm parses open street map data, and haversine calculates the distance between two coordinates."
   ]
  },
  {
   "cell_type": "code",
   "execution_count": 1,
   "metadata": {},
   "outputs": [
    {
     "ename": "NameError",
     "evalue": "name 'get_data' is not defined",
     "output_type": "error",
     "traceback": [
      "\u001b[0;31m---------------------------------------------------------------------------\u001b[0m",
      "\u001b[0;31mNameError\u001b[0m                                 Traceback (most recent call last)",
      "\u001b[1;32m/home/alec/Desktop/code/personal_projects/safe-path-finder/src/search_documentation.ipynb Cell 3\u001b[0m line \u001b[0;36m1\n\u001b[0;32m----> <a href='vscode-notebook-cell:/home/alec/Desktop/code/personal_projects/safe-path-finder/src/search_documentation.ipynb#W2sZmlsZQ%3D%3D?line=0'>1</a>\u001b[0m data_seattle \u001b[39m=\u001b[39m get_data(\u001b[39m\"\u001b[39m\u001b[39mSeattle\u001b[39m\u001b[39m\"\u001b[39m, directory\u001b[39m=\u001b[39m\u001b[39m\"\u001b[39m\u001b[39m/home/alec/Desktop/code/personal_projects/safe-path-finder/src\u001b[39m\u001b[39m\"\u001b[39m)\n\u001b[1;32m      <a href='vscode-notebook-cell:/home/alec/Desktop/code/personal_projects/safe-path-finder/src/search_documentation.ipynb#W2sZmlsZQ%3D%3D?line=1'>2</a>\u001b[0m osm_seattle \u001b[39m=\u001b[39m OSM(data_seattle)\n\u001b[1;32m      <a href='vscode-notebook-cell:/home/alec/Desktop/code/personal_projects/safe-path-finder/src/search_documentation.ipynb#W2sZmlsZQ%3D%3D?line=2'>3</a>\u001b[0m nodes, edges \u001b[39m=\u001b[39m osm_seattle\u001b[39m.\u001b[39mget_network(nodes\u001b[39m=\u001b[39m\u001b[39mTrue\u001b[39;00m, network_type\u001b[39m=\u001b[39m\u001b[39m\"\u001b[39m\u001b[39mdriving\u001b[39m\u001b[39m\"\u001b[39m, graph_type\u001b[39m=\u001b[39m\u001b[39m\"\u001b[39m\u001b[39mnetworkx\u001b[39m\u001b[39m\"\u001b[39m)\n",
      "\u001b[0;31mNameError\u001b[0m: name 'get_data' is not defined"
     ]
    }
   ],
   "source": [
    "data_seattle = get_data(\"Seattle\", directory=\"/home/alec/Desktop/code/personal_projects/safe-path-finder/src\")\n",
    "osm_seattle = OSM(data_seattle)\n",
    "nodes, edges = osm_seattle.get_network(nodes=True, network_type=\"driving\", graph_type=\"networkx\")\n",
    "graph = osm_seattle.to_graph(nodes, edges)\n",
    "with open(\"src/graph.pkl\", \"wb\") as out_file:\n",
    "    pickle.dump(graph, out_file)\n",
    "\n",
    "with open(\"src/graph.pkl\", \"rb\") as in_file:\n",
    "    seattle_graph = pickle.load(in_file)"
   ]
  },
  {
   "cell_type": "markdown",
   "metadata": {},
   "source": [
    "Here we get the data for the seattle map and convert the data to a graph. Lastly we save the graph to a pickle file for later use. Then we load the pickle file as seattle_graph."
   ]
  },
  {
   "cell_type": "code",
   "execution_count": null,
   "metadata": {},
   "outputs": [],
   "source": [
    "def a_star_search(seattle_graph, start, end):\n",
    "    \"\"\"\n",
    "    parameters\n",
    "    seattle_graph: graph data for Seattle\n",
    "    start: starting vertex in the graph\n",
    "    end: ending/target vertex in the graph\n",
    "    return: path through the graph\n",
    "    \"\"\"\n",
    "    entry = 1\n",
    "    minheap = [(0, 0, start, 0)] # add first item\n",
    "    distances = {start: (0, None)} # also the visited set\n",
    "    end_lat, end_lon = end['lat'], end['lon']\n",
    "\n",
    "    # need to create node object with parents to find path\n",
    "    while minheap:\n",
    "        _, _, curr_node, curr_dist = heapq.heappop(minheap)\n",
    "\n",
    "        if curr_node == end:\n",
    "            break\n",
    "\n",
    "        for out_edge_idx in seattle_graph.incident(curr_node, mode=\"out\"):\n",
    "            out_edge = seattle_graph.es[out_edge_idx]\n",
    "            new_dist = curr_dist + out_edge[\"length\"]\n",
    "            neighbor = seattle_graph.vs.find(id=out_edge[\"v\"])\n",
    "            dist_to_end = haversine((neighbor['lat'], neighbor['lon']), (end_lat, end_lon)) * 1000 # kilometers to meters\n",
    "\n",
    "            if neighbor not in distances or new_dist < distances[neighbor][0]:\n",
    "                distances[neighbor] = (new_dist, curr_node)\n",
    "            else: # visited\n",
    "                continue\n",
    "            \n",
    "            weight = 2 * (new_dist + dist_to_end)\n",
    "            heapq.heappush(minheap, (weight, entry, neighbor, new_dist))\n",
    "            entry += 1\n",
    "\n",
    "\n",
    "    path = []\n",
    "    curr = distances[end][1]\n",
    "    while curr is not None:\n",
    "        path.append(curr)\n",
    "        curr = distances[curr][1]\n",
    "\n",
    "    return path[::-1]\n"
   ]
  },
  {
   "cell_type": "markdown",
   "metadata": {},
   "source": [
    "Here is my implementation of the a* search algorithm to find the shortest path between two points in the city of Seattle. Unfortunately my implementation is too slow to be useful in the web application due to the high level nature of python. Because of this I will use an external library (OSMnx) that has a shortest path function."
   ]
  },
  {
   "cell_type": "code",
   "execution_count": null,
   "metadata": {},
   "outputs": [],
   "source": [
    "source_address = \"\"\n",
    "target_address = \"\"\n",
    "\n",
    "source = osmnx.geocode(source_address)\n",
    "target = osmnx.geocode(target_address)\n",
    "\n",
    "source_node = osmnx.get_nearest_node(seattle_graph, source)\n",
    "target_node = osmnx.get_nearest_node(seattle_graph, target)\n",
    "\n",
    "route = networkx.shortest_path(seattle_graph, source_node, target_node, weight=\"length\")"
   ]
  },
  {
   "cell_type": "markdown",
   "metadata": {},
   "source": [
    "Here is the code for the shortest path algorithm utilizing two libraries for working with open street maps data, networkx and osmnx."
   ]
  }
 ],
 "metadata": {
  "kernelspec": {
   "display_name": ".venv",
   "language": "python",
   "name": "python3"
  },
  "language_info": {
   "codemirror_mode": {
    "name": "ipython",
    "version": 3
   },
   "file_extension": ".py",
   "mimetype": "text/x-python",
   "name": "python",
   "nbconvert_exporter": "python",
   "pygments_lexer": "ipython3",
   "version": "3.10.12"
  }
 },
 "nbformat": 4,
 "nbformat_minor": 2
}
